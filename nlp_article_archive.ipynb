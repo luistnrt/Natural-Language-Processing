{
 "cells": [
  {
   "cell_type": "code",
   "execution_count": 7,
   "metadata": {},
   "outputs": [
    {
     "ename": "NameError",
     "evalue": "name 'mwnXWF71cgmtnfQdbR5hSBDc1ivbObUX' is not defined",
     "output_type": "error",
     "traceback": [
      "\u001b[1;31m---------------------------------------------------------------------------\u001b[0m",
      "\u001b[1;31mNameError\u001b[0m                                 Traceback (most recent call last)",
      "\u001b[1;32mc:\\Users\\DELSTEI9\\OneDrive - EY\\Documents\\GitHub\\Natural-Language-Processing\\nlp_article_archive.ipynb Cell 1\u001b[0m in \u001b[0;36m<cell line: 4>\u001b[1;34m()\u001b[0m\n\u001b[0;32m      <a href='vscode-notebook-cell:/c%3A/Users/DELSTEI9/OneDrive%20-%20EY/Documents/GitHub/Natural-Language-Processing/nlp_article_archive.ipynb#W0sZmlsZQ%3D%3D?line=1'>2</a>\u001b[0m \u001b[39mimport\u001b[39;00m \u001b[39mjson\u001b[39;00m\n\u001b[0;32m      <a href='vscode-notebook-cell:/c%3A/Users/DELSTEI9/OneDrive%20-%20EY/Documents/GitHub/Natural-Language-Processing/nlp_article_archive.ipynb#W0sZmlsZQ%3D%3D?line=2'>3</a>\u001b[0m \u001b[39mimport\u001b[39;00m \u001b[39mtime\u001b[39;00m\n\u001b[1;32m----> <a href='vscode-notebook-cell:/c%3A/Users/DELSTEI9/OneDrive%20-%20EY/Documents/GitHub/Natural-Language-Processing/nlp_article_archive.ipynb#W0sZmlsZQ%3D%3D?line=3'>4</a>\u001b[0m api_key \u001b[39m=\u001b[39m (mwnXWF71cgmtnfQdbR5hSBDc1ivbObUX)\n\u001b[0;32m      <a href='vscode-notebook-cell:/c%3A/Users/DELSTEI9/OneDrive%20-%20EY/Documents/GitHub/Natural-Language-Processing/nlp_article_archive.ipynb#W0sZmlsZQ%3D%3D?line=4'>5</a>\u001b[0m your_query \u001b[39m=\u001b[39m ({\u001b[39m2020\u001b[39m}\u001b[39m/\u001b[39m{\u001b[39m12\u001b[39m})\n\u001b[0;32m      <a href='vscode-notebook-cell:/c%3A/Users/DELSTEI9/OneDrive%20-%20EY/Documents/GitHub/Natural-Language-Processing/nlp_article_archive.ipynb#W0sZmlsZQ%3D%3D?line=5'>6</a>\u001b[0m url \u001b[39m=\u001b[39m \u001b[39m'\u001b[39m\u001b[39mhttps://api.nytimes.com/svc/search/v2/articlesearch.json?q=\u001b[39m\u001b[39m{your_query}\u001b[39;00m\u001b[39m&api-key=\u001b[39m\u001b[39m{api_key}\u001b[39;00m\u001b[39m'\u001b[39m\n",
      "\u001b[1;31mNameError\u001b[0m: name 'mwnXWF71cgmtnfQdbR5hSBDc1ivbObUX' is not defined"
     ]
    }
   ],
   "source": [
    "import requests\n",
    "import json\n",
    "import time\n",
    "api_key = ('mwnXWF71cgmtnfQdbR5hSBDc1ivbObUX')\n",
    "your_query = ({2020}/{12})\n",
    "url = 'https://api.nytimes.com/svc/search/v2/articlesearch.json?q={your_query}&api-key={api_key}'\n",
    "query = requests.get(url)\n",
    "data = query.json()"
   ]
  },
  {
   "cell_type": "code",
   "execution_count": 3,
   "metadata": {},
   "outputs": [
    {
     "name": "stdout",
     "output_type": "stream",
     "text": [
      "Collecting requests\n",
      "  Downloading requests-2.28.1-py3-none-any.whl (62 kB)\n",
      "     ---------------------------------------- 62.8/62.8 KB 1.1 MB/s eta 0:00:00\n",
      "Collecting idna<4,>=2.5\n",
      "  Downloading idna-3.4-py3-none-any.whl (61 kB)\n",
      "     ---------------------------------------- 61.5/61.5 KB ? eta 0:00:00\n",
      "Collecting urllib3<1.27,>=1.21.1\n",
      "  Downloading urllib3-1.26.12-py2.py3-none-any.whl (140 kB)\n",
      "     -------------------------------------- 140.4/140.4 KB 8.1 MB/s eta 0:00:00\n",
      "Collecting certifi>=2017.4.17\n",
      "  Downloading certifi-2022.9.24-py3-none-any.whl (161 kB)\n",
      "     -------------------------------------- 161.1/161.1 KB 9.4 MB/s eta 0:00:00\n",
      "Collecting charset-normalizer<3,>=2\n",
      "  Downloading charset_normalizer-2.1.1-py3-none-any.whl (39 kB)\n",
      "Installing collected packages: urllib3, idna, charset-normalizer, certifi, requests\n",
      "Successfully installed certifi-2022.9.24 charset-normalizer-2.1.1 idna-3.4 requests-2.28.1 urllib3-1.26.12\n",
      "Note: you may need to restart the kernel to use updated packages.\n"
     ]
    },
    {
     "name": "stderr",
     "output_type": "stream",
     "text": [
      "  WARNING: The script normalizer.exe is installed in 'c:\\Users\\DELSTEI9\\AppData\\Local\\Programs\\Python\\Python310\\Scripts' which is not on PATH.\n",
      "  Consider adding this directory to PATH or, if you prefer to suppress this warning, use --no-warn-script-location.\n",
      "WARNING: You are using pip version 22.0.4; however, version 22.3.1 is available.\n",
      "You should consider upgrading via the 'c:\\Users\\DELSTEI9\\AppData\\Local\\Programs\\Python\\Python310\\python.exe -m pip install --upgrade pip' command.\n"
     ]
    }
   ],
   "source": [
    "\n"
   ]
  }
 ],
 "metadata": {
  "kernelspec": {
   "display_name": "Python 3.10.5 64-bit",
   "language": "python",
   "name": "python3"
  },
  "language_info": {
   "codemirror_mode": {
    "name": "ipython",
    "version": 3
   },
   "file_extension": ".py",
   "mimetype": "text/x-python",
   "name": "python",
   "nbconvert_exporter": "python",
   "pygments_lexer": "ipython3",
   "version": "3.10.5"
  },
  "orig_nbformat": 4,
  "vscode": {
   "interpreter": {
    "hash": "864e1f20dbb28239d950687f39028fbb4c0d085af87de4b77635b27f74266f13"
   }
  }
 },
 "nbformat": 4,
 "nbformat_minor": 2
}
